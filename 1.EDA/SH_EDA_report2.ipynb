{
 "cells": [
  {
   "cell_type": "code",
   "execution_count": 4,
   "id": "36956848",
   "metadata": {},
   "outputs": [],
   "source": [
    "import numpy as np\n",
    "import pandas as pd"
   ]
  },
  {
   "cell_type": "code",
   "execution_count": 34,
   "id": "5af339db",
   "metadata": {},
   "outputs": [],
   "source": [
    "df = pd.read_csv(\"/root/dev/mlops/data/raw/discover_movies.csv\", engine = 'python')"
   ]
  },
  {
   "cell_type": "code",
   "execution_count": 35,
   "id": "fcbbf845",
   "metadata": {},
   "outputs": [],
   "source": [
    "df = df[df['vote_count'].apply(lambda x: str(x).isdigit())]"
   ]
  },
  {
   "cell_type": "code",
   "execution_count": 40,
   "id": "9bc46a7a",
   "metadata": {},
   "outputs": [
    {
     "data": {
      "text/plain": [
       "(17887, 13)"
      ]
     },
     "execution_count": 40,
     "metadata": {},
     "output_type": "execute_result"
    }
   ],
   "source": [
    "df[df['vote_count'].astype('int') <= 100].shape"
   ]
  },
  {
   "cell_type": "code",
   "execution_count": 31,
   "id": "65c75c14",
   "metadata": {},
   "outputs": [
    {
     "data": {
      "text/plain": [
       "(6,)"
      ]
     },
     "execution_count": 31,
     "metadata": {},
     "output_type": "execute_result"
    }
   ],
   "source": [
    "df['vote_count'].astype('str').shape"
   ]
  },
  {
   "cell_type": "code",
   "execution_count": null,
   "id": "5ada4b98",
   "metadata": {},
   "outputs": [],
   "source": []
  }
 ],
 "metadata": {
  "kernelspec": {
   "display_name": "base",
   "language": "python",
   "name": "python3"
  },
  "language_info": {
   "codemirror_mode": {
    "name": "ipython",
    "version": 3
   },
   "file_extension": ".py",
   "mimetype": "text/x-python",
   "name": "python",
   "nbconvert_exporter": "python",
   "pygments_lexer": "ipython3",
   "version": "3.10.13"
  }
 },
 "nbformat": 4,
 "nbformat_minor": 5
}
